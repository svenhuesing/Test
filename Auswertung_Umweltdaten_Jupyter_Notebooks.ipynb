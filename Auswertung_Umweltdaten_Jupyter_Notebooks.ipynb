{
 "cells": [
  {
   "cell_type": "markdown",
   "metadata": {
    "deletable": false,
    "editable": false,
    "run_control": {
     "frozen": true
    }
   },
   "source": [
    "<h1>Auswertung von Umweltdaten aus “Live Sensoren” mit Jupyter Notebooks</h1>"
   ]
  },
  {
   "cell_type": "markdown",
   "metadata": {
    "deletable": false,
    "editable": false,
    "run_control": {
     "frozen": true
    }
   },
   "source": [
    "<div style=\"background-color: gainsboro; padding: 5px 20px 20px\">\n",
    "\n",
    "In diesem Jupyter Notebook soll ein Datensatz untersucht werden, der mithilfe einer Sensebox erstellt wurde. Es wurden folgende Daten erhoben:\n",
    "\n",
    "- Luftfeuchtigkeitsdaten (in %)\n",
    "- Temperaturdaten (in °C)\n",
    "- Feinstaubdaten (in $\\mu/m^3$)\n",
    "\n",
    "Die jeweiligen Datensätze befinden sich im Unterordner <code>/Daten</code>."
   ]
  },
  {
   "cell_type": "markdown",
   "metadata": {
    "deletable": false,
    "editable": false,
    "run_control": {
     "frozen": true
    }
   },
   "source": [
    "<h2>Bibliotheken importieren</h2>"
   ]
  },
  {
   "cell_type": "markdown",
   "metadata": {
    "deletable": false,
    "editable": false,
    "run_control": {
     "frozen": true
    }
   },
   "source": [
    "<div style=\"background-color: gainsboro; padding: 5px 20px 20px\">\n",
    " \n",
    "Zunächst müssen einige Bibliotheken importiert werden, mithilfe derer die Datensätze in entsprechenden Datenstrukturen (oder auch DataFrames) gespeichert und später auf verschiedene Weisen visualisiert werden können.\n",
    "\n",
    "Dazu muss die folgende, bereits vorgefertigte Code-Zelle ausgeführt werden.<br>"
   ]
  },
  {
   "cell_type": "markdown",
   "metadata": {
    "deletable": false,
    "editable": false,
    "run_control": {
     "frozen": true
    }
   },
   "source": [
    "<div style=\"background-color: lightblue; padding: 5px 20px 20px\">\n",
    "\n",
    "**Aufgabe:** \n",
    "\n",
    "Führen Sie den Import der oben angesprochenen Bibliotheken durch, indem Sie die folgende, bereits vorbereitete Code-Zelle ausführen.\n",
    "\n",
    "<i><b>Hinweis</b></i>:<br>\n",
    "Code-Zellen lassen sich in Jupyter Notebooks entweder über die Tastenkombination <i>Shift+Enter</i> oder den <i> Run</i>-Button in der Leiste oben im Fenster ausführen:<br>\n",
    "<img src=\"res\\Run-Button.png\" alt=\"Drawing\" style=\"width: 50px; float: center;\"/> <br>\n",
    "Wichtig ist, dass dabei die entsprechende Code-Zelle ausgewählt ist (zu erkennen an dem hellblauen oder grünen Streifen am linken Rand der Notebook-Oberfläche). Zum Auswählen muss die gewünschte Zelle lediglich angeklickt werden."
   ]
  },
  {
   "cell_type": "code",
   "execution_count": 40,
   "metadata": {},
   "outputs": [
    {
     "data": {
      "text/html": [
       "        <script type=\"text/javascript\">\n",
       "        window.PlotlyConfig = {MathJaxConfig: 'local'};\n",
       "        if (window.MathJax) {MathJax.Hub.Config({SVG: {font: \"STIX-Web\"}});}\n",
       "        if (typeof require !== 'undefined') {\n",
       "        require.undef(\"plotly\");\n",
       "        requirejs.config({\n",
       "            paths: {\n",
       "                'plotly': ['https://cdn.plot.ly/plotly-latest.min']\n",
       "            }\n",
       "        });\n",
       "        require(['plotly'], function(Plotly) {\n",
       "            window._Plotly = Plotly;\n",
       "        });\n",
       "        }\n",
       "        </script>\n",
       "        "
      ]
     },
     "metadata": {},
     "output_type": "display_data"
    }
   ],
   "source": [
    "#####\n",
    "# Importieren der Bibliotheken für dieses Notebook\n",
    "####\n",
    "\n",
    "# Bibliothek zur Speicherung und Manipulation der Daten in sogenannten DataFrames (Tabellen)\n",
    "import pandas as pd \n",
    "\n",
    "# Bibliothek zur Visualisierung der Daten\n",
    "import cufflinks as cf\n",
    "from ipywidgets import interactive\n",
    "cf.go_offline()\n",
    "cf.set_config_file(offline=False, world_readable=True)"
   ]
  },
  {
   "cell_type": "markdown",
   "metadata": {
    "deletable": false,
    "editable": false,
    "run_control": {
     "frozen": true
    }
   },
   "source": [
    "<h2>Daten einlesen</h2>"
   ]
  },
  {
   "cell_type": "markdown",
   "metadata": {
    "deletable": false,
    "editable": false,
    "hide_input": true,
    "run_control": {
     "frozen": true
    }
   },
   "source": [
    "<div style=\"background-color: gainsboro; padding: 5px 20px 20px\">\n",
    " \n",
    "Als nächstes sollen die zu untersuchenden Daten in dieses Jupyter Notebook eingelesen und in einem DataFrame gespeichert werden. Dazu weist man einer Variable <code>df</code> die eingelesenen Daten als DataFrame zu (mit <code>df = EINGELESENE_DATEN_ALS_DATAFRAME</code>).<br>\n",
    "Dabei muss EINGELESENE_DATEN_ALS_DATAFRAME durch das DataFrame ersetzt werden, in dem die Daten gespeichert wurden.\n",
    "\n",
    "Um Daten aus einer CSV-Datei einzulesen und in einem DataFrame zu speichern, verwendet man den Befehl <code>pd.read_csv('Daten/NAME_DATEI.csv', sep =',')</code>. <br>\n",
    "Dabei ist <i>NAME_DATEI.csv</i> durch den entsprechenden Dateinamen zu ersetzen."
   ]
  },
  {
   "cell_type": "markdown",
   "metadata": {
    "deletable": false,
    "editable": false,
    "run_control": {
     "frozen": true
    }
   },
   "source": [
    "<div style=\"background-color: lightblue; padding: 5px 20px 20px\">\n",
    "\n",
    "**Aufgabe:** \n",
    "\n",
    "Lesen Sie den oben erwähnten Datensatz aus dem Unterordner <code>Daten</code> in dieses Jupyter Notebook ein und speichern Sie ihn in einem DataFrame (Name: df).<br>\n",
    "Führen Sie dazu die folgende Code-Zelle aus:"
   ]
  },
  {
   "cell_type": "code",
   "execution_count": 41,
   "metadata": {},
   "outputs": [],
   "source": [
    "df = pd.read_csv('Daten/sensor_data_2020.csv', sep =',')"
   ]
  },
  {
   "cell_type": "markdown",
   "metadata": {
    "deletable": false,
    "editable": false,
    "run_control": {
     "frozen": true
    }
   },
   "source": [
    "<div style=\"background-color: gainsboro; padding: 5px 20px 20px\">\n",
    "\n",
    "Um sich einen Überblick über den Datensatz zu verschaffen, ist es hilfreich, folgende Methode/Property von DataFrames anzuwenden:\n",
    "\n",
    "Mit der Methode <code>head()</code> des <code>DataFrames</code> kann man sich einen Überblick über die ersten fünf Zeilen des Datensatzes verschaffen. Die Methode wird über <code>df.head()</code> aufgerufen.\n",
    "\n",
    "Mit der Property <code>dtypes</code> des <code>DataFrames</code> bekommt man eine Übersicht der Datentypen der einzelnen Tabellenspalten. Die Property wird über <code>df.dtypes()</code> aufgerufen."
   ]
  },
  {
   "cell_type": "markdown",
   "metadata": {
    "deletable": false,
    "editable": false,
    "run_control": {
     "frozen": true
    }
   },
   "source": [
    "<div style=\"background-color: lightblue; padding: 5px 20px 20px\">\n",
    "\n",
    "**Aufgabe:** \n",
    "\n",
    "Lassen Sie sich die ersten fünf Zeilen Ihres oben erstellten DataFrames und die Datentypen der einzelnen Tabellenspalten anzeigen, indem Sie die unteren beiden Codezellen ausführen."
   ]
  },
  {
   "cell_type": "code",
   "execution_count": 42,
   "metadata": {},
   "outputs": [
    {
     "data": {
      "text/html": [
       "<div>\n",
       "<style scoped>\n",
       "    .dataframe tbody tr th:only-of-type {\n",
       "        vertical-align: middle;\n",
       "    }\n",
       "\n",
       "    .dataframe tbody tr th {\n",
       "        vertical-align: top;\n",
       "    }\n",
       "\n",
       "    .dataframe thead th {\n",
       "        text-align: right;\n",
       "    }\n",
       "</style>\n",
       "<table border=\"1\" class=\"dataframe\">\n",
       "  <thead>\n",
       "    <tr style=\"text-align: right;\">\n",
       "      <th></th>\n",
       "      <th>timestamp</th>\n",
       "      <th>temperature</th>\n",
       "      <th>humidity</th>\n",
       "      <th>particulate_matter</th>\n",
       "      <th>longitude</th>\n",
       "      <th>latitude</th>\n",
       "      <th>hight</th>\n",
       "    </tr>\n",
       "  </thead>\n",
       "  <tbody>\n",
       "    <tr>\n",
       "      <th>0</th>\n",
       "      <td>2020-09-10T13:22:17.000Z</td>\n",
       "      <td>18.11</td>\n",
       "      <td>49.97</td>\n",
       "      <td>3.4</td>\n",
       "      <td>8.71</td>\n",
       "      <td>51.74</td>\n",
       "      <td>102.0</td>\n",
       "    </tr>\n",
       "    <tr>\n",
       "      <th>1</th>\n",
       "      <td>2020-09-10T13:27:17.000Z</td>\n",
       "      <td>18.09</td>\n",
       "      <td>47.15</td>\n",
       "      <td>2.9</td>\n",
       "      <td>8.71</td>\n",
       "      <td>51.74</td>\n",
       "      <td>102.0</td>\n",
       "    </tr>\n",
       "    <tr>\n",
       "      <th>2</th>\n",
       "      <td>2020-09-10T13:32:17.000Z</td>\n",
       "      <td>17.84</td>\n",
       "      <td>49.39</td>\n",
       "      <td>1.9</td>\n",
       "      <td>8.71</td>\n",
       "      <td>51.74</td>\n",
       "      <td>102.0</td>\n",
       "    </tr>\n",
       "    <tr>\n",
       "      <th>3</th>\n",
       "      <td>2020-09-10T13:37:17.000Z</td>\n",
       "      <td>17.66</td>\n",
       "      <td>49.82</td>\n",
       "      <td>2.5</td>\n",
       "      <td>8.71</td>\n",
       "      <td>51.74</td>\n",
       "      <td>102.0</td>\n",
       "    </tr>\n",
       "    <tr>\n",
       "      <th>4</th>\n",
       "      <td>2020-09-10T13:42:17.000Z</td>\n",
       "      <td>17.60</td>\n",
       "      <td>50.82</td>\n",
       "      <td>2.3</td>\n",
       "      <td>8.71</td>\n",
       "      <td>51.74</td>\n",
       "      <td>102.0</td>\n",
       "    </tr>\n",
       "  </tbody>\n",
       "</table>\n",
       "</div>"
      ],
      "text/plain": [
       "                  timestamp  temperature  humidity  particulate_matter  \\\n",
       "0  2020-09-10T13:22:17.000Z        18.11     49.97                 3.4   \n",
       "1  2020-09-10T13:27:17.000Z        18.09     47.15                 2.9   \n",
       "2  2020-09-10T13:32:17.000Z        17.84     49.39                 1.9   \n",
       "3  2020-09-10T13:37:17.000Z        17.66     49.82                 2.5   \n",
       "4  2020-09-10T13:42:17.000Z        17.60     50.82                 2.3   \n",
       "\n",
       "   longitude  latitude  hight  \n",
       "0       8.71     51.74  102.0  \n",
       "1       8.71     51.74  102.0  \n",
       "2       8.71     51.74  102.0  \n",
       "3       8.71     51.74  102.0  \n",
       "4       8.71     51.74  102.0  "
      ]
     },
     "execution_count": 42,
     "metadata": {},
     "output_type": "execute_result"
    }
   ],
   "source": [
    "df.head()"
   ]
  },
  {
   "cell_type": "code",
   "execution_count": 43,
   "metadata": {},
   "outputs": [
    {
     "data": {
      "text/plain": [
       "timestamp              object\n",
       "temperature           float64\n",
       "humidity              float64\n",
       "particulate_matter    float64\n",
       "longitude             float64\n",
       "latitude              float64\n",
       "hight                 float64\n",
       "dtype: object"
      ]
     },
     "execution_count": 43,
     "metadata": {},
     "output_type": "execute_result"
    }
   ],
   "source": [
    "df.dtypes"
   ]
  },
  {
   "cell_type": "markdown",
   "metadata": {
    "deletable": false,
    "editable": false,
    "run_control": {
     "frozen": true
    }
   },
   "source": [
    "<h2>Daten bereinigen und indizieren</h2>"
   ]
  },
  {
   "cell_type": "markdown",
   "metadata": {
    "deletable": false,
    "editable": false,
    "run_control": {
     "frozen": true
    }
   },
   "source": [
    "<div style=\"background-color: gainsboro; padding: 5px 20px 20px\">\n",
    "\n",
    "Beim Explorieren der ersten fünf Zeilen und mit einem Blick auf die Datentypen der einzelnen Spalten fällt ein größeres Problem ins Auge:\n",
    "\n",
    "- Der **TimeStamp** wird noch nicht als eigener Datentyp erkannt.\n",
    "    - Um dies zu verändern, wird die Methode <code>pd.to_datetime(TABELLENSPALTE, dayfirst=True, errors='coerce')</code> benötigt, wobei TABELLENSPALTE durch die entsprechende Tabellenspalte zu ersetzen ist, deren Datentyp in TimeStamp geändert werden soll.\n",
    "\n",
    "Um eine Tabellenspalte eines DataFrames' <code>df</code> anzusprechen, schreibt man den Namen der Tabellenspalte in eckige Klammern und Hochkommata hinter den Namen des zugehörigen DataFrames' (hier also <code>df['timestamp']</code>).\n",
    "\n",
    "Um nun die object-Tabellenspalte mit dem Namen <code>'timestamp'</code> in eine TimeStamp-Tabellenspalte umzuwandeln, muss vor den oben genannten Befehl noch <code>df['timestamp'] =</code> geschrieben werden, damit die Spalte überschrieben werden kann.\n"
   ]
  },
  {
   "cell_type": "markdown",
   "metadata": {
    "deletable": false,
    "editable": false,
    "run_control": {
     "frozen": true
    }
   },
   "source": [
    "<div style=\"background-color: lightblue; padding: 5px 20px 20px\">\n",
    "\n",
    "**Aufgabe:** \n",
    "\n",
    "Verändern Sie den Datentyp der Tabellenspalte <code>'timestamp'</code> des DataFrames <code>df</code> in <i>TimeStamp</i>, indem Sie die folgende Codezelle ausführen.\n",
    "\n",
    "Kontrollieren Sie auch mithilfe der Property <code>dtypes</code>, ob die Konvertierung funktioniert hat."
   ]
  },
  {
   "cell_type": "code",
   "execution_count": 44,
   "metadata": {},
   "outputs": [],
   "source": [
    "df['timestamp'] = pd.to_datetime(df['timestamp'], dayfirst=True,errors='coerce')"
   ]
  },
  {
   "cell_type": "code",
   "execution_count": 45,
   "metadata": {},
   "outputs": [
    {
     "data": {
      "text/plain": [
       "timestamp             datetime64[ns, UTC]\n",
       "temperature                       float64\n",
       "humidity                          float64\n",
       "particulate_matter                float64\n",
       "longitude                         float64\n",
       "latitude                          float64\n",
       "hight                             float64\n",
       "dtype: object"
      ]
     },
     "execution_count": 45,
     "metadata": {},
     "output_type": "execute_result"
    }
   ],
   "source": [
    "df.dtypes"
   ]
  },
  {
   "cell_type": "markdown",
   "metadata": {
    "deletable": false,
    "editable": false,
    "run_control": {
     "frozen": true
    }
   },
   "source": [
    "<div style=\"background-color: gainsboro; padding: 5px 20px 20px\">\n",
    "\n",
    "Nachdem nun der Datentyp der Spalte <code>'timestamp'</code> richtig gesetzt wurde, können die einzelnen Daten über diesen Timestamp indiziert werden. \n",
    "\n",
    "Ein Index (oder auch Schlüssel) identifiziert jede Zeile des DataFrames eindeutig. Derzeit wird der Index noch inkrementell generiert (siehe Spalte ganz links in der Ansicht bei <code>df.head()</code>).\n",
    "\n",
    "Um den Index neu zu setzen, verwendet man die Methode <code>set_index('INDEX')</code>, wobei <i>INDEX</i> durch den Namen der Tabellenspalte ersezt werden muss, die als Index gesetzt werden soll (hier also <code>timestamp</code>).\n",
    "\n",
    "Wie auch <code>head()</code>, wird diese Methode auf dem DateFrame <code>df</code> mit <code>df.set_index('INDEX')</code> aufgerufen. Dieser Aufruf liefert ein DataFrame zurück, welches denselben Inhalt wie <code>df</code> besitzt, jedoch als Index die in der Klammer geschriebene Tabellenspalte 'INDEX' hat. Folglich muss <code>df</code> mit diesem DataFrame (bzw. in Python mit dem oben genannten Befehl) gleichgesetzt werden (mit <code>df = </code>)."
   ]
  },
  {
   "cell_type": "markdown",
   "metadata": {
    "deletable": false,
    "editable": false,
    "run_control": {
     "frozen": true
    }
   },
   "source": [
    "<div style=\"background-color: lightblue; padding: 5px 20px 20px\">\n",
    "\n",
    "**Aufgabe:** \n",
    "\n",
    "Setzen Sie den Index des DataFrames <code>df</code> auf die Tabellenspalte <code>'timestamp'</code>, indem Sie die folgende Codezelle ausführen."
   ]
  },
  {
   "cell_type": "code",
   "execution_count": 46,
   "metadata": {},
   "outputs": [],
   "source": [
    "df = df.set_index('timestamp')"
   ]
  },
  {
   "cell_type": "markdown",
   "metadata": {
    "deletable": false,
    "editable": false,
    "run_control": {
     "frozen": true
    }
   },
   "source": [
    "<div style=\"background-color: gainsboro; padding: 5px 20px 20px\">\n",
    "\n",
    "Es ist sinnvoll, den Index des Datensatzes auf die Tabellenspalte <code>'timestamp'</code> zu setzen, um den Datensatz später hinsichtlich dieses Wertes zu filtern und beispielsweise in Zeitreihendarstellung (mit <code>'timestamp'</code> auf der x-Achse) darzustellen."
   ]
  },
  {
   "cell_type": "markdown",
   "metadata": {
    "deletable": false,
    "editable": false,
    "run_control": {
     "frozen": true
    }
   },
   "source": [
    "<h2>Daten auswerten und visualisieren</h2>"
   ]
  },
  {
   "cell_type": "markdown",
   "metadata": {
    "deletable": false,
    "editable": false,
    "hide_input": false,
    "run_control": {
     "frozen": true
    }
   },
   "source": [
    "<div style=\"background-color: gainsboro; padding: 5px 20px 20px\">\n",
    "\n",
    "Nachdem die Daten im vorherigen Abschnitt in ein passendes Format (DataFrame) gebracht wurden, kann nun mit der Auswertung und der Visualisierung der Daten begonnen werden. Im Folgenden werden Ihnen hierzu verschiedene Methoden/Properties vorgestellt."
   ]
  },
  {
   "cell_type": "markdown",
   "metadata": {
    "deletable": false,
    "editable": false,
    "hide_input": false,
    "run_control": {
     "frozen": true
    }
   },
   "source": [
    "<div style=\"background-color: gainsboro; padding: 5px 20px 20px\">\n",
    "    \n",
    "- Methode <code>iplot()</code> auf einem Dataframe df (Aufruf: <code>df['TABSPALTE'].iplot()</code> - z.B. für die Temperatur: <code>df['temperature'].iplot()</code>)\n",
    "    - erstellt spezifische Plots des Datensatzes df - abhängig vom übergebenen Wert beim Parameter <code>kind</code>:\n",
    "        - keine Angabe - also Klammer leer bzw. ohne den Parameter <code>kind</code>: Erstellt eine Zeitreihenanalyse der Daten - mit dem Timestamp auf der x-Achse und dem gemessenen Wert auf der y-Achse\n",
    "        - <code>kind='box'</code>: erstellt einen Boxplot aus den gemessenen Werten\n",
    "        - <code>kind='bar'</code>: erstellt ein Säulendiagramm aus den gemessenen Werten\n",
    "    - Zusätzlich lassen sich noch der Titel und Beschriftungen für die x-/y-Achse der Visualisierung über weitere Parameter in der Klammer festlegen:\n",
    "        - <code>title = 'Insert Title Here'</code>\n",
    "        - <code>xTitle = 'Insert x-axis-title here'</code>\n",
    "        - <code>yTitle = 'Insert y-axis-title here'</code>\n",
    "        \n",
    "        \n",
    "- Methode <code>mean()</code> auf einer Tabellenspalte 'TABSPALTE' des Dataframes df (Aufruf: <code>df['TABSPALTE'].mean()</code> - z.B. für die Temperatur: <code>df['temperature'].mean()</code>)\n",
    "    - gibt den Mittelwert aller Einträge aus der Spalte 'TABSPALTE' zurück\n",
    "    - über die <code>print()</code>-Methode (Aufruf: <code>print(df['TABSPALTE'].mean())</code>) lässt sich dieser Wert ausgeben.\n",
    "    \n",
    "    \n",
    "- Methode <code>min()</code> auf einer Tabellenspalte 'TABSPALTE' des Dataframes df (Aufruf: <code>df['TABSPALTE'].min()</code>  - z.B. für die Temperatur: <code>df['temperature'].min()</code>)\n",
    "    - gibt das Minimum aller Einträge aus der Spalte 'TABSPALTE' zurück\n",
    "    - über die <code>print()</code>-Methode (Aufruf: <code>print(df['TABSPALTE'].min())</code>) lässt sich dieser Wert ausgeben.\n",
    "    \n",
    "    \n",
    "- Methode <code>max()</code> auf einer Tabellenspalte 'TABSPALTE' des Dataframes df (Aufruf: <code>df['TABSPALTE'].max()</code> - z.B. für die Temperatur: <code>df['temperature'].max()</code>)\n",
    "    - gibt das Maximum aller Einträge aus der Spalte 'TABSPALTE' zurück\n",
    "    - über die <code>print()</code>-Methode (Aufruf: <code>print(df['TABSPALTE'].max())</code>) lässt sich dieser Wert ausgeben.\n",
    "  \n",
    "  \n",
    "- Methode <code>quantile(SOME_NUMBER_BETWEEN_0_AND_1)</code> auf einer Tabellenspalte 'TABSPALTE' des Dataframes df mit Parameter q (Aufruf: <code>df['TABSPALTE'].quantile(SOME_NUMBER_BETWEEN_0_AND_1)</code> - z.B. für die Temperatur: <code>df['temperature'].quantile(SOME_NUMBER_BETWEEN_0_AND_1)</code>)\n",
    "    - gibt das entsprechende <code>SOME_NUMBER_BETWEEN_0_AND_1</code>-Quantil der Spalte 'TABSPALTE' zurück\n",
    "    - <code>SOME_NUMBER_BETWEEN_0_AND_1</code> ist im Aufruf zu ersetzen durch den gewünschten Anteil des Datensatzes, der kleiner sein soll, als der Rückgabewert (Beispiel: Übergibt man als Parameter den Wert 0.25, sind 25% der Daten aus der Spalte 'TABSPALTE' kleiner als der Wert, der zurückgegeben wird.)\n",
    "    - über die <code>print()</code>-Methode (Aufruf: <code>print(df['TABSPALTE'].quantile(SOME_NUMBER_BETWEEN_0_AND_1))</code>) lässt sich dieser Wert ausgeben."
   ]
  },
  {
   "cell_type": "markdown",
   "metadata": {
    "deletable": false,
    "editable": false,
    "run_control": {
     "frozen": true
    }
   },
   "source": [
    "<div style=\"background-color: lightblue; padding: 5px 20px 20px\">\n",
    "\n",
    "**Aufgabe:** \n",
    "\n",
    "Probieren Sie ein wenig mit den oben genannten Methoden herum. Visualisieren Sie die Daten Ihres DataFrames <code>df</code> und erstellen Sie damit und mithilfe der statistischen Kenngrößen eine erste grobe Datenauswertung.\n",
    "\n",
    "<i>Hinweis</i>: Sie können auch mehrere Befehle und Methodenaufrufe in einer einzelnen Zelle ausführen."
   ]
  },
  {
   "cell_type": "code",
   "execution_count": 48,
   "metadata": {},
   "outputs": [],
   "source": [
    "#Platz für die statistischen Kenngrößen"
   ]
  },
  {
   "cell_type": "code",
   "execution_count": 50,
   "metadata": {},
   "outputs": [],
   "source": [
    "#Platz für Ihre Visualisierungen"
   ]
  },
  {
   "cell_type": "markdown",
   "metadata": {
    "deletable": false,
    "editable": false,
    "run_control": {
     "frozen": true
    }
   },
   "source": [
    "<div style=\"background-color: lightblue; padding: 5px 20px 20px\">\n",
    "\n",
    "**Aufgabe:** \n",
    "\n",
    "Beschreiben Sie kurz, welche Erkenntnisse Sie aus der Datenanalyse und Datenvisualisierung gewinnen konnten."
   ]
  },
  {
   "cell_type": "markdown",
   "metadata": {},
   "source": [
    "\"#Platz für Ihre Vermutung\" (Doppelklick auf diese Zelle, um sie zu editieren)"
   ]
  }
 ],
 "metadata": {
  "kernelspec": {
   "display_name": "Python 3",
   "language": "python",
   "name": "python3"
  },
  "language_info": {
   "codemirror_mode": {
    "name": "ipython",
    "version": 3
   },
   "file_extension": ".py",
   "mimetype": "text/x-python",
   "name": "python",
   "nbconvert_exporter": "python",
   "pygments_lexer": "ipython3",
   "version": "3.8.5"
  },
  "toc": {
   "base_numbering": 1,
   "nav_menu": {},
   "number_sections": true,
   "sideBar": true,
   "skip_h1_title": false,
   "title_cell": "Table of Contents",
   "title_sidebar": "Contents",
   "toc_cell": false,
   "toc_position": {},
   "toc_section_display": true,
   "toc_window_display": false
  }
 },
 "nbformat": 4,
 "nbformat_minor": 2
}
